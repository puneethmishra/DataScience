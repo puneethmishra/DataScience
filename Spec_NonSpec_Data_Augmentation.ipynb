{
  "nbformat": 4,
  "nbformat_minor": 0,
  "metadata": {
    "colab": {
      "name": "DAI_A1-Q2_Solution_copy.ipynb",
      "provenance": [],
      "collapsed_sections": []
    },
    "kernelspec": {
      "name": "python3",
      "display_name": "Python 3"
    }
  },
  "cells": [
    {
      "cell_type": "code",
      "metadata": {
        "id": "-0A5QfhjCVeH"
      },
      "source": [
        "# Importing the necessary libraries\n",
        " \n",
        "import numpy as np\n",
        "import pickle\n",
        "import gzip\n",
        "import random\n",
        "import sklearn as sk\n",
        "from sklearn import svm\n",
        "from sklearn.model_selection import train_test_split\n",
        "from sklearn import metrics\n",
        "from sklearn.metrics import confusion_matrix, classification_report, accuracy_score, f1_score, precision_score, recall_score  \n",
        "import pydotplus\n",
        "import matplotlib.pyplot as plt\n",
        "import torch\n",
        "import torchvision\n",
        "import matplotlib.pyplot as plt\n",
        "from time import time\n",
        "from torchvision import datasets, transforms\n",
        "from torch import nn, optim\n",
        "from keras.models import Sequential\n",
        "from keras.layers import Dense\n",
        " \n",
        "from keras.models import Sequential\n",
        "from keras_preprocessing.image import ImageDataGenerator\n",
        "from keras.layers import Dense, Activation, Flatten, Dropout, BatchNormalization\n",
        "from keras.layers import Conv2D, MaxPooling2D\n",
        "from keras import regularizers, optimizers\n",
        "import pandas as pd\n",
        " \n",
        "import keras\n",
        "import glob\n",
        "import cv2 as cv\n",
        "import matplotlib.pyplot as plt \n",
        "import matplotlib.image as img \n",
        "from PIL import Image\n",
        "import os\n",
        "import zipfile\n",
        "import tensorflow as tf\n",
        "from keras.preprocessing.image import load_img, img_to_array"
      ],
      "execution_count": null,
      "outputs": []
    },
    {
      "cell_type": "code",
      "metadata": {
        "id": "z1oXDNkMC9ls",
        "outputId": "58c1016a-4560-4e06-931c-44363a5d427d",
        "colab": {
          "base_uri": "https://localhost:8080/"
        }
      },
      "source": [
        "# Mount the google drive for the input dataset\n",
        "\n",
        "from google.colab import drive\n",
        "drive.mount('/content/drive')"
      ],
      "execution_count": null,
      "outputs": [
        {
          "output_type": "stream",
          "text": [
            "Drive already mounted at /content/drive; to attempt to forcibly remount, call drive.mount(\"/content/drive\", force_remount=True).\n"
          ],
          "name": "stdout"
        }
      ]
    },
    {
      "cell_type": "code",
      "metadata": {
        "id": "EVWeu82RDODG"
      },
      "source": [
        "# Unzip the input dataset. Run this only once\n",
        "\n",
        "#zip_file = zipfile.ZipFile('/content/drive/My Drive/AR_FaceDB.zip', 'r')\n",
        "#zip_file.extractall('/content/drive/My Drive/')\n",
        "#zip_file.close()"
      ],
      "execution_count": null,
      "outputs": []
    },
    {
      "cell_type": "code",
      "metadata": {
        "id": "t_WNmIJgHVAF"
      },
      "source": [
        "# Defining the labels for the dataset as per the input dataset labels\n",
        "\n",
        "labels = ['specs', 'nonSpecs']"
      ],
      "execution_count": null,
      "outputs": []
    },
    {
      "cell_type": "code",
      "metadata": {
        "id": "mq3EjJlNHgfI",
        "outputId": "4370c7a7-8a05-4adc-945e-a45265424b0e",
        "colab": {
          "base_uri": "https://localhost:8080/"
        }
      },
      "source": [
        "# Create the training dataframe for training by combining the specs and non-specs data\n",
        "\n",
        "train_labels   = []\n",
        "train_path     = []\n",
        "\n",
        "for label in labels:\n",
        "  training_path  = glob.glob('/content/drive/My Drive/AR_FaceDB/' + label + '_train/*.bmp')\n",
        "\n",
        "  for path in training_path:\n",
        "    train_path.append(path)\n",
        "    train_labels.append(label)\n",
        "\n",
        "train_dataframe = pd.DataFrame({'path' : train_path, 'label' : train_labels})\n",
        "print(train_dataframe)"
      ],
      "execution_count": null,
      "outputs": [
        {
          "output_type": "stream",
          "text": [
            "                                                  path     label\n",
            "0    /content/drive/My Drive/AR_FaceDB/specs_train/...     specs\n",
            "1    /content/drive/My Drive/AR_FaceDB/specs_train/...     specs\n",
            "2    /content/drive/My Drive/AR_FaceDB/specs_train/...     specs\n",
            "3    /content/drive/My Drive/AR_FaceDB/specs_train/...     specs\n",
            "4    /content/drive/My Drive/AR_FaceDB/specs_train/...     specs\n",
            "..                                                 ...       ...\n",
            "701  /content/drive/My Drive/AR_FaceDB/nonSpecs_tra...  nonSpecs\n",
            "702  /content/drive/My Drive/AR_FaceDB/nonSpecs_tra...  nonSpecs\n",
            "703  /content/drive/My Drive/AR_FaceDB/nonSpecs_tra...  nonSpecs\n",
            "704  /content/drive/My Drive/AR_FaceDB/nonSpecs_tra...  nonSpecs\n",
            "705  /content/drive/My Drive/AR_FaceDB/nonSpecs_tra...  nonSpecs\n",
            "\n",
            "[706 rows x 2 columns]\n"
          ],
          "name": "stdout"
        }
      ]
    },
    {
      "cell_type": "code",
      "metadata": {
        "id": "nz-5EQfyKqKI",
        "outputId": "c4f91b8d-f904-4118-8d44-b5a4ee4100d2",
        "colab": {
          "base_uri": "https://localhost:8080/"
        }
      },
      "source": [
        "# Create the test dataframe for testing by combining the specs and non-specs data\n",
        "\n",
        "test_path   = []\n",
        "test_labels = []\n",
        "\n",
        "for label in labels:\n",
        "  testing_path  = glob.glob('/content/drive/My Drive/AR_FaceDB/' + label + '_test/*.bmp')\n",
        "\n",
        "  for path in testing_path:\n",
        "    test_path.append(path)\n",
        "    test_labels.append(label)\n",
        "\n",
        "test_dataframe = pd.DataFrame({'path' : test_path, 'label' : test_labels})\n",
        "print(test_dataframe)"
      ],
      "execution_count": null,
      "outputs": [
        {
          "output_type": "stream",
          "text": [
            "                                                  path     label\n",
            "0    /content/drive/My Drive/AR_FaceDB/specs_test/m...     specs\n",
            "1    /content/drive/My Drive/AR_FaceDB/specs_test/m...     specs\n",
            "2    /content/drive/My Drive/AR_FaceDB/specs_test/m...     specs\n",
            "3    /content/drive/My Drive/AR_FaceDB/specs_test/m...     specs\n",
            "4    /content/drive/My Drive/AR_FaceDB/specs_test/m...     specs\n",
            "..                                                 ...       ...\n",
            "329  /content/drive/My Drive/AR_FaceDB/nonSpecs_tes...  nonSpecs\n",
            "330  /content/drive/My Drive/AR_FaceDB/nonSpecs_tes...  nonSpecs\n",
            "331  /content/drive/My Drive/AR_FaceDB/nonSpecs_tes...  nonSpecs\n",
            "332  /content/drive/My Drive/AR_FaceDB/nonSpecs_tes...  nonSpecs\n",
            "333  /content/drive/My Drive/AR_FaceDB/nonSpecs_tes...  nonSpecs\n",
            "\n",
            "[334 rows x 2 columns]\n"
          ],
          "name": "stdout"
        }
      ]
    },
    {
      "cell_type": "code",
      "metadata": {
        "id": "_2ctVkfxTvpU",
        "outputId": "7f7f2000-0343-4e49-d3e9-c1e6ad361ff0",
        "colab": {
          "base_uri": "https://localhost:8080/",
          "height": 402
        }
      },
      "source": [
        "train_dataframe['gender']      = train_dataframe['path'].str.split('/').str[-1].str.split('-').str[0]\n",
        "train_dataframe['identity']    = train_dataframe['path'].str.split('/').str[-1].str.split('-').str[1]\n",
        "train_dataframe['attribute']   = train_dataframe['path'].str.split('/').str[-1].str.split('-').str[-1].str.split('.').str[0]\n",
        "\n",
        "train_dataframe"
      ],
      "execution_count": null,
      "outputs": [
        {
          "output_type": "execute_result",
          "data": {
            "text/html": [
              "<div>\n",
              "<style scoped>\n",
              "    .dataframe tbody tr th:only-of-type {\n",
              "        vertical-align: middle;\n",
              "    }\n",
              "\n",
              "    .dataframe tbody tr th {\n",
              "        vertical-align: top;\n",
              "    }\n",
              "\n",
              "    .dataframe thead th {\n",
              "        text-align: right;\n",
              "    }\n",
              "</style>\n",
              "<table border=\"1\" class=\"dataframe\">\n",
              "  <thead>\n",
              "    <tr style=\"text-align: right;\">\n",
              "      <th></th>\n",
              "      <th>path</th>\n",
              "      <th>label</th>\n",
              "      <th>gender</th>\n",
              "      <th>identity</th>\n",
              "      <th>attribute</th>\n",
              "    </tr>\n",
              "  </thead>\n",
              "  <tbody>\n",
              "    <tr>\n",
              "      <th>0</th>\n",
              "      <td>/content/drive/My Drive/AR_FaceDB/specs_train/...</td>\n",
              "      <td>specs</td>\n",
              "      <td>m</td>\n",
              "      <td>001</td>\n",
              "      <td>10</td>\n",
              "    </tr>\n",
              "    <tr>\n",
              "      <th>1</th>\n",
              "      <td>/content/drive/My Drive/AR_FaceDB/specs_train/...</td>\n",
              "      <td>specs</td>\n",
              "      <td>m</td>\n",
              "      <td>001</td>\n",
              "      <td>21</td>\n",
              "    </tr>\n",
              "    <tr>\n",
              "      <th>2</th>\n",
              "      <td>/content/drive/My Drive/AR_FaceDB/specs_train/...</td>\n",
              "      <td>specs</td>\n",
              "      <td>m</td>\n",
              "      <td>001</td>\n",
              "      <td>22</td>\n",
              "    </tr>\n",
              "    <tr>\n",
              "      <th>3</th>\n",
              "      <td>/content/drive/My Drive/AR_FaceDB/specs_train/...</td>\n",
              "      <td>specs</td>\n",
              "      <td>m</td>\n",
              "      <td>001</td>\n",
              "      <td>23</td>\n",
              "    </tr>\n",
              "    <tr>\n",
              "      <th>4</th>\n",
              "      <td>/content/drive/My Drive/AR_FaceDB/specs_train/...</td>\n",
              "      <td>specs</td>\n",
              "      <td>m</td>\n",
              "      <td>001</td>\n",
              "      <td>8</td>\n",
              "    </tr>\n",
              "    <tr>\n",
              "      <th>...</th>\n",
              "      <td>...</td>\n",
              "      <td>...</td>\n",
              "      <td>...</td>\n",
              "      <td>...</td>\n",
              "      <td>...</td>\n",
              "    </tr>\n",
              "    <tr>\n",
              "      <th>701</th>\n",
              "      <td>/content/drive/My Drive/AR_FaceDB/nonSpecs_tra...</td>\n",
              "      <td>nonSpecs</td>\n",
              "      <td>w</td>\n",
              "      <td>057</td>\n",
              "      <td>24</td>\n",
              "    </tr>\n",
              "    <tr>\n",
              "      <th>702</th>\n",
              "      <td>/content/drive/My Drive/AR_FaceDB/nonSpecs_tra...</td>\n",
              "      <td>nonSpecs</td>\n",
              "      <td>w</td>\n",
              "      <td>059</td>\n",
              "      <td>2</td>\n",
              "    </tr>\n",
              "    <tr>\n",
              "      <th>703</th>\n",
              "      <td>/content/drive/My Drive/AR_FaceDB/nonSpecs_tra...</td>\n",
              "      <td>nonSpecs</td>\n",
              "      <td>w</td>\n",
              "      <td>059</td>\n",
              "      <td>24</td>\n",
              "    </tr>\n",
              "    <tr>\n",
              "      <th>704</th>\n",
              "      <td>/content/drive/My Drive/AR_FaceDB/nonSpecs_tra...</td>\n",
              "      <td>nonSpecs</td>\n",
              "      <td>w</td>\n",
              "      <td>060</td>\n",
              "      <td>17</td>\n",
              "    </tr>\n",
              "    <tr>\n",
              "      <th>705</th>\n",
              "      <td>/content/drive/My Drive/AR_FaceDB/nonSpecs_tra...</td>\n",
              "      <td>nonSpecs</td>\n",
              "      <td>w</td>\n",
              "      <td>060</td>\n",
              "      <td>24</td>\n",
              "    </tr>\n",
              "  </tbody>\n",
              "</table>\n",
              "<p>706 rows × 5 columns</p>\n",
              "</div>"
            ],
            "text/plain": [
              "                                                  path  ... attribute\n",
              "0    /content/drive/My Drive/AR_FaceDB/specs_train/...  ...        10\n",
              "1    /content/drive/My Drive/AR_FaceDB/specs_train/...  ...        21\n",
              "2    /content/drive/My Drive/AR_FaceDB/specs_train/...  ...        22\n",
              "3    /content/drive/My Drive/AR_FaceDB/specs_train/...  ...        23\n",
              "4    /content/drive/My Drive/AR_FaceDB/specs_train/...  ...         8\n",
              "..                                                 ...  ...       ...\n",
              "701  /content/drive/My Drive/AR_FaceDB/nonSpecs_tra...  ...        24\n",
              "702  /content/drive/My Drive/AR_FaceDB/nonSpecs_tra...  ...         2\n",
              "703  /content/drive/My Drive/AR_FaceDB/nonSpecs_tra...  ...        24\n",
              "704  /content/drive/My Drive/AR_FaceDB/nonSpecs_tra...  ...        17\n",
              "705  /content/drive/My Drive/AR_FaceDB/nonSpecs_tra...  ...        24\n",
              "\n",
              "[706 rows x 5 columns]"
            ]
          },
          "metadata": {
            "tags": []
          },
          "execution_count": 7
        }
      ]
    },
    {
      "cell_type": "code",
      "metadata": {
        "id": "gsJrA6x_VqbA",
        "outputId": "4ff871dd-0f87-4a6e-816b-57a98a581a60",
        "colab": {
          "base_uri": "https://localhost:8080/",
          "height": 402
        }
      },
      "source": [
        "test_dataframe['gender']      = test_dataframe['path'].str.split('/').str[-1].str.split('-').str[0]\n",
        "test_dataframe['identity']    = test_dataframe['path'].str.split('/').str[-1].str.split('-').str[1]\n",
        "test_dataframe['attribute']   = test_dataframe['path'].str.split('/').str[-1].str.split('-').str[-1].str.split('.').str[0]\n",
        "\n",
        "test_dataframe"
      ],
      "execution_count": null,
      "outputs": [
        {
          "output_type": "execute_result",
          "data": {
            "text/html": [
              "<div>\n",
              "<style scoped>\n",
              "    .dataframe tbody tr th:only-of-type {\n",
              "        vertical-align: middle;\n",
              "    }\n",
              "\n",
              "    .dataframe tbody tr th {\n",
              "        vertical-align: top;\n",
              "    }\n",
              "\n",
              "    .dataframe thead th {\n",
              "        text-align: right;\n",
              "    }\n",
              "</style>\n",
              "<table border=\"1\" class=\"dataframe\">\n",
              "  <thead>\n",
              "    <tr style=\"text-align: right;\">\n",
              "      <th></th>\n",
              "      <th>path</th>\n",
              "      <th>label</th>\n",
              "      <th>gender</th>\n",
              "      <th>identity</th>\n",
              "      <th>attribute</th>\n",
              "    </tr>\n",
              "  </thead>\n",
              "  <tbody>\n",
              "    <tr>\n",
              "      <th>0</th>\n",
              "      <td>/content/drive/My Drive/AR_FaceDB/specs_test/m...</td>\n",
              "      <td>specs</td>\n",
              "      <td>m</td>\n",
              "      <td>002</td>\n",
              "      <td>21</td>\n",
              "    </tr>\n",
              "    <tr>\n",
              "      <th>1</th>\n",
              "      <td>/content/drive/My Drive/AR_FaceDB/specs_test/m...</td>\n",
              "      <td>specs</td>\n",
              "      <td>m</td>\n",
              "      <td>003</td>\n",
              "      <td>11</td>\n",
              "    </tr>\n",
              "    <tr>\n",
              "      <th>2</th>\n",
              "      <td>/content/drive/My Drive/AR_FaceDB/specs_test/m...</td>\n",
              "      <td>specs</td>\n",
              "      <td>m</td>\n",
              "      <td>003</td>\n",
              "      <td>12</td>\n",
              "    </tr>\n",
              "    <tr>\n",
              "      <th>3</th>\n",
              "      <td>/content/drive/My Drive/AR_FaceDB/specs_test/m...</td>\n",
              "      <td>specs</td>\n",
              "      <td>m</td>\n",
              "      <td>003</td>\n",
              "      <td>13</td>\n",
              "    </tr>\n",
              "    <tr>\n",
              "      <th>4</th>\n",
              "      <td>/content/drive/My Drive/AR_FaceDB/specs_test/m...</td>\n",
              "      <td>specs</td>\n",
              "      <td>m</td>\n",
              "      <td>003</td>\n",
              "      <td>24</td>\n",
              "    </tr>\n",
              "    <tr>\n",
              "      <th>...</th>\n",
              "      <td>...</td>\n",
              "      <td>...</td>\n",
              "      <td>...</td>\n",
              "      <td>...</td>\n",
              "      <td>...</td>\n",
              "    </tr>\n",
              "    <tr>\n",
              "      <th>329</th>\n",
              "      <td>/content/drive/My Drive/AR_FaceDB/nonSpecs_tes...</td>\n",
              "      <td>nonSpecs</td>\n",
              "      <td>w</td>\n",
              "      <td>060</td>\n",
              "      <td>19</td>\n",
              "    </tr>\n",
              "    <tr>\n",
              "      <th>330</th>\n",
              "      <td>/content/drive/My Drive/AR_FaceDB/nonSpecs_tes...</td>\n",
              "      <td>nonSpecs</td>\n",
              "      <td>w</td>\n",
              "      <td>060</td>\n",
              "      <td>20</td>\n",
              "    </tr>\n",
              "    <tr>\n",
              "      <th>331</th>\n",
              "      <td>/content/drive/My Drive/AR_FaceDB/nonSpecs_tes...</td>\n",
              "      <td>nonSpecs</td>\n",
              "      <td>w</td>\n",
              "      <td>060</td>\n",
              "      <td>5</td>\n",
              "    </tr>\n",
              "    <tr>\n",
              "      <th>332</th>\n",
              "      <td>/content/drive/My Drive/AR_FaceDB/nonSpecs_tes...</td>\n",
              "      <td>nonSpecs</td>\n",
              "      <td>w</td>\n",
              "      <td>060</td>\n",
              "      <td>6</td>\n",
              "    </tr>\n",
              "    <tr>\n",
              "      <th>333</th>\n",
              "      <td>/content/drive/My Drive/AR_FaceDB/nonSpecs_tes...</td>\n",
              "      <td>nonSpecs</td>\n",
              "      <td>w</td>\n",
              "      <td>060</td>\n",
              "      <td>7</td>\n",
              "    </tr>\n",
              "  </tbody>\n",
              "</table>\n",
              "<p>334 rows × 5 columns</p>\n",
              "</div>"
            ],
            "text/plain": [
              "                                                  path  ... attribute\n",
              "0    /content/drive/My Drive/AR_FaceDB/specs_test/m...  ...        21\n",
              "1    /content/drive/My Drive/AR_FaceDB/specs_test/m...  ...        11\n",
              "2    /content/drive/My Drive/AR_FaceDB/specs_test/m...  ...        12\n",
              "3    /content/drive/My Drive/AR_FaceDB/specs_test/m...  ...        13\n",
              "4    /content/drive/My Drive/AR_FaceDB/specs_test/m...  ...        24\n",
              "..                                                 ...  ...       ...\n",
              "329  /content/drive/My Drive/AR_FaceDB/nonSpecs_tes...  ...        19\n",
              "330  /content/drive/My Drive/AR_FaceDB/nonSpecs_tes...  ...        20\n",
              "331  /content/drive/My Drive/AR_FaceDB/nonSpecs_tes...  ...         5\n",
              "332  /content/drive/My Drive/AR_FaceDB/nonSpecs_tes...  ...         6\n",
              "333  /content/drive/My Drive/AR_FaceDB/nonSpecs_tes...  ...         7\n",
              "\n",
              "[334 rows x 5 columns]"
            ]
          },
          "metadata": {
            "tags": []
          },
          "execution_count": 8
        }
      ]
    },
    {
      "cell_type": "code",
      "metadata": {
        "id": "KGgHUgZnaXrQ",
        "outputId": "a93942e0-49d2-490f-ef9f-5b19183430fc",
        "colab": {
          "base_uri": "https://localhost:8080/"
        }
      },
      "source": [
        "train_dataframe['gender'].value_counts(normalize=True) * 100"
      ],
      "execution_count": null,
      "outputs": [
        {
          "output_type": "execute_result",
          "data": {
            "text/plain": [
              "m    84.135977\n",
              "w    15.864023\n",
              "Name: gender, dtype: float64"
            ]
          },
          "metadata": {
            "tags": []
          },
          "execution_count": 9
        }
      ]
    },
    {
      "cell_type": "code",
      "metadata": {
        "id": "1_YFV-dxbvBX",
        "outputId": "910db2bf-3fb5-4732-c697-d7d7d577b2ea",
        "colab": {
          "base_uri": "https://localhost:8080/"
        }
      },
      "source": [
        "test_dataframe['gender'].value_counts(normalize=True) * 100"
      ],
      "execution_count": null,
      "outputs": [
        {
          "output_type": "execute_result",
          "data": {
            "text/plain": [
              "m    72.754491\n",
              "w    27.245509\n",
              "Name: gender, dtype: float64"
            ]
          },
          "metadata": {
            "tags": []
          },
          "execution_count": 10
        }
      ]
    },
    {
      "cell_type": "code",
      "metadata": {
        "id": "ARvBroqmPGZJ",
        "outputId": "62a192b4-e3d0-46cd-9049-ac956fc96fe2",
        "colab": {
          "base_uri": "https://localhost:8080/"
        }
      },
      "source": [
        "# Split the training sets into 2 sets - one for training, the other for validation.\n",
        "# Use the ImageDataGenerator to generate the images for training and validation dataframes\n",
        "\n",
        "datagen         = ImageDataGenerator(rescale = 1./255., validation_split = 0.25)\n",
        "\n",
        "train_generator = datagen.flow_from_dataframe(dataframe = train_dataframe, x_col = 'path', y_col = 'label', subset = 'training',\n",
        "                                              batch_size = 32, seed = 42, shuffle=True, class_mode = 'binary', target_size = (32, 32))\n",
        "\n",
        "valid_generator = datagen.flow_from_dataframe(dataframe = train_dataframe, x_col = 'path', y_col = 'label', subset = 'validation',\n",
        "                                              batch_size = 32, seed = 42, shuffle=True, class_mode = 'binary', target_size = (32, 32))"
      ],
      "execution_count": null,
      "outputs": [
        {
          "output_type": "stream",
          "text": [
            "Found 530 validated image filenames belonging to 2 classes.\n",
            "Found 176 validated image filenames belonging to 2 classes.\n"
          ],
          "name": "stdout"
        }
      ]
    },
    {
      "cell_type": "code",
      "metadata": {
        "id": "3Ohiw5m9S6UV",
        "outputId": "bd667070-49c2-439c-9e99-28282cac6ca8",
        "colab": {
          "base_uri": "https://localhost:8080/"
        }
      },
      "source": [
        "# Use the ImageDataGenerator to generate the images for test dataframes.\n",
        "\n",
        "test_datagen   = ImageDataGenerator(rescale = 1./255.)\n",
        "\n",
        "test_generator = test_datagen.flow_from_dataframe(dataframe = test_dataframe, x_col = 'path', y_col = 'label',\n",
        "                                                  batch_size = 32, seed = 42, shuffle=False, class_mode = 'binary', target_size = (32, 32))\n",
        "\n",
        "print(test_generator)"
      ],
      "execution_count": null,
      "outputs": [
        {
          "output_type": "stream",
          "text": [
            "Found 334 validated image filenames belonging to 2 classes.\n",
            "<keras_preprocessing.image.dataframe_iterator.DataFrameIterator object at 0x7f5b4b4e9c50>\n"
          ],
          "name": "stdout"
        }
      ]
    },
    {
      "cell_type": "code",
      "metadata": {
        "id": "RE6R54PKaPFP"
      },
      "source": [
        "# Build the model using the architecture specified\n",
        "\n",
        "model = Sequential()\n",
        "\n",
        "model.add(Conv2D(32, kernel_size=(3, 3), activation = 'relu', padding ='same', input_shape = (32, 32, 3)))\n",
        "model.add(Activation('relu'))\n",
        "model.add(MaxPooling2D((2, 2), padding = 'same'))\n",
        "model.add(Dropout(0.25))\n",
        "\n",
        "model.add(Conv2D(64, (3, 3), activation = 'relu', padding ='same'))\n",
        "model.add(Activation('relu'))\n",
        "model.add(Dropout(0.25))\n",
        "\n",
        "model.add(Conv2D(128, (3, 3), activation = 'relu', padding = 'same'))\n",
        "model.add(Activation('relu'))\n",
        "model.add(MaxPooling2D(pool_size = (2, 2)))\n",
        "model.add(Dropout(0.25))\n",
        "\n",
        "model.add(Flatten())\n",
        "\n",
        "model.add(Dense(128, activation = 'relu'))\n",
        "model.add(Activation('relu'))\n",
        "\n",
        "model.add(Dense(1, activation = 'sigmoid'))\n",
        "\n",
        "model.compile(optimizer = 'adam', loss = 'mean_squared_error', metrics = ['accuracy',\n",
        "                                                                          tf.keras.metrics.Precision(), tf.keras.metrics.Recall()])"
      ],
      "execution_count": null,
      "outputs": []
    },
    {
      "cell_type": "code",
      "metadata": {
        "id": "LJZ-6veKck2F",
        "outputId": "2dac41c5-885f-4bd6-a132-c43199c476fd",
        "colab": {
          "base_uri": "https://localhost:8080/"
        }
      },
      "source": [
        "# Fitting the model\n",
        "\n",
        "STEP_SIZE_TRAIN = train_generator.n//train_generator.batch_size\n",
        "STEP_SIZE_VALID = valid_generator.n//valid_generator.batch_size\n",
        "STEP_SIZE_TEST  = test_generator.n//test_generator.batch_size\n",
        "\n",
        "model.fit_generator(generator = train_generator, steps_per_epoch = STEP_SIZE_TRAIN, validation_data = valid_generator,\n",
        "                    validation_steps = STEP_SIZE_VALID, epochs = 10)"
      ],
      "execution_count": null,
      "outputs": [
        {
          "output_type": "stream",
          "text": [
            "WARNING:tensorflow:From <ipython-input-14-4fe62f26f27d>:8: Model.fit_generator (from tensorflow.python.keras.engine.training) is deprecated and will be removed in a future version.\n",
            "Instructions for updating:\n",
            "Please use Model.fit, which supports generators.\n",
            "Epoch 1/10\n",
            "16/16 [==============================] - 460s 29s/step - loss: 0.2807 - accuracy: 0.5803 - precision: 0.4776 - recall: 0.1553 - val_loss: 0.2725 - val_accuracy: 0.0000e+00 - val_precision: 0.0000e+00 - val_recall: 0.0000e+00\n",
            "Epoch 2/10\n",
            "16/16 [==============================] - 2s 142ms/step - loss: 0.1361 - accuracy: 0.8153 - precision: 0.9214 - recall: 0.6143 - val_loss: 0.0049 - val_accuracy: 1.0000 - val_precision: 1.0000 - val_recall: 1.0000\n",
            "Epoch 3/10\n",
            "16/16 [==============================] - 2s 147ms/step - loss: 0.0810 - accuracy: 0.8936 - precision: 0.8673 - recall: 0.8798 - val_loss: 0.0037 - val_accuracy: 1.0000 - val_precision: 1.0000 - val_recall: 1.0000\n",
            "Epoch 4/10\n",
            "16/16 [==============================] - 2s 142ms/step - loss: 0.0630 - accuracy: 0.9157 - precision: 0.8977 - recall: 0.9061 - val_loss: 0.0124 - val_accuracy: 0.9750 - val_precision: 1.0000 - val_recall: 0.9750\n",
            "Epoch 5/10\n",
            "16/16 [==============================] - 2s 144ms/step - loss: 0.0494 - accuracy: 0.9357 - precision: 0.9078 - recall: 0.9426 - val_loss: 0.0228 - val_accuracy: 0.9688 - val_precision: 1.0000 - val_recall: 0.9688\n",
            "Epoch 6/10\n",
            "16/16 [==============================] - 2s 150ms/step - loss: 0.0445 - accuracy: 0.9414 - precision: 0.9022 - recall: 0.9621 - val_loss: 0.0776 - val_accuracy: 0.9062 - val_precision: 1.0000 - val_recall: 0.9062\n",
            "Epoch 7/10\n",
            "16/16 [==============================] - 2s 143ms/step - loss: 0.0486 - accuracy: 0.9317 - precision: 0.9190 - recall: 0.9190 - val_loss: 0.0265 - val_accuracy: 0.9688 - val_precision: 1.0000 - val_recall: 0.9688\n",
            "Epoch 8/10\n",
            "16/16 [==============================] - 2s 140ms/step - loss: 0.0473 - accuracy: 0.9357 - precision: 0.9268 - recall: 0.9179 - val_loss: 0.0143 - val_accuracy: 0.9812 - val_precision: 1.0000 - val_recall: 0.9812\n",
            "Epoch 9/10\n",
            "16/16 [==============================] - 2s 142ms/step - loss: 0.0479 - accuracy: 0.9357 - precision: 0.9065 - recall: 0.9417 - val_loss: 0.0109 - val_accuracy: 0.9875 - val_precision: 1.0000 - val_recall: 0.9875\n",
            "Epoch 10/10\n",
            "16/16 [==============================] - 2s 144ms/step - loss: 0.0396 - accuracy: 0.9478 - precision: 0.9099 - recall: 0.9712 - val_loss: 0.0060 - val_accuracy: 0.9937 - val_precision: 1.0000 - val_recall: 0.9937\n"
          ],
          "name": "stdout"
        },
        {
          "output_type": "execute_result",
          "data": {
            "text/plain": [
              "<tensorflow.python.keras.callbacks.History at 0x7f5a5a640c50>"
            ]
          },
          "metadata": {
            "tags": []
          },
          "execution_count": 14
        }
      ]
    },
    {
      "cell_type": "code",
      "metadata": {
        "id": "RG03IA4nhBP-",
        "outputId": "f93dbba3-8ad1-45d8-eaa9-b491b5ba1341",
        "colab": {
          "base_uri": "https://localhost:8080/"
        }
      },
      "source": [
        "# Evaluate the model on validation dataset\n",
        "\n",
        "_, accuracy, precision, recall = model.evaluate_generator(generator = valid_generator, steps = STEP_SIZE_TEST)\n",
        "\n",
        "print('Validation Dataset results:')\n",
        "print('The accuracy is %.2f' % (accuracy * 100))\n",
        "print('The precision is %.2f' % precision)\n",
        "print('The recall is %.2f' % recall)"
      ],
      "execution_count": null,
      "outputs": [
        {
          "output_type": "stream",
          "text": [
            "WARNING:tensorflow:From <ipython-input-15-f07a0f8ab712>:3: Model.evaluate_generator (from tensorflow.python.keras.engine.training) is deprecated and will be removed in a future version.\n",
            "Instructions for updating:\n",
            "Please use Model.evaluate, which supports generators.\n",
            "WARNING:tensorflow:Your input ran out of data; interrupting training. Make sure that your dataset or generator can generate at least `steps_per_epoch * epochs` batches (in this case, 10 batches). You may need to use the repeat() function when building your dataset.\n",
            "Validation Dataset results:\n",
            "The accuracy is 99.43\n",
            "The precision is 1.00\n",
            "The recall is 0.99\n"
          ],
          "name": "stdout"
        }
      ]
    },
    {
      "cell_type": "code",
      "metadata": {
        "id": "NWa9NNs3kx34",
        "outputId": "ae2e063c-5bbe-4090-e162-61131bc27d18",
        "colab": {
          "base_uri": "https://localhost:8080/"
        }
      },
      "source": [
        "# Evaluate the model on training dataset\n",
        "\n",
        "_, accuracy, precision, recall = model.evaluate_generator(generator = train_generator, steps = STEP_SIZE_TEST)\n",
        "\n",
        "print('Training Dataset results:')\n",
        "print('The accuracy is %.2f' % (accuracy * 100))\n",
        "print('The precision is %.2f' % precision)\n",
        "print('The recall is %.2f' % recall)"
      ],
      "execution_count": null,
      "outputs": [
        {
          "output_type": "stream",
          "text": [
            "Training Dataset results:\n",
            "The accuracy is 95.31\n",
            "The precision is 0.90\n",
            "The recall is 1.00\n"
          ],
          "name": "stdout"
        }
      ]
    },
    {
      "cell_type": "code",
      "metadata": {
        "id": "x_J-GhF2klwS",
        "outputId": "01ec1280-10f8-4f70-b839-78c084e14187",
        "colab": {
          "base_uri": "https://localhost:8080/"
        }
      },
      "source": [
        "# Evaluate the model on test dataset\n",
        "\n",
        "_, accuracy, precision, recall = model.evaluate_generator(generator = test_generator, steps = STEP_SIZE_TRAIN)\n",
        "\n",
        "print('Test Dataset results:')\n",
        "print('The accuracy is %.2f' % (accuracy * 100))\n",
        "print('The precision is %.2f' % precision)\n",
        "print('The recall is %.2f' % recall)"
      ],
      "execution_count": null,
      "outputs": [
        {
          "output_type": "stream",
          "text": [
            "WARNING:tensorflow:Your input ran out of data; interrupting training. Make sure that your dataset or generator can generate at least `steps_per_epoch * epochs` batches (in this case, 16 batches). You may need to use the repeat() function when building your dataset.\n",
            "Test Dataset results:\n",
            "The accuracy is 26.95\n",
            "The precision is 0.36\n",
            "The recall is 0.40\n"
          ],
          "name": "stdout"
        }
      ]
    },
    {
      "cell_type": "code",
      "metadata": {
        "id": "f3liVndzqeIJ",
        "outputId": "c568b145-636b-4ece-8821-f13fa40a753b",
        "colab": {
          "base_uri": "https://localhost:8080/"
        }
      },
      "source": [
        "test_generator.class_indices"
      ],
      "execution_count": null,
      "outputs": [
        {
          "output_type": "execute_result",
          "data": {
            "text/plain": [
              "{'nonSpecs': 0, 'specs': 1}"
            ]
          },
          "metadata": {
            "tags": []
          },
          "execution_count": 18
        }
      ]
    },
    {
      "cell_type": "code",
      "metadata": {
        "id": "43a1zuMd6ctj",
        "outputId": "4ef6dd74-4428-430b-ab86-93d729233c43",
        "colab": {
          "base_uri": "https://localhost:8080/",
          "height": 402
        }
      },
      "source": [
        "# From the above predictions, we can clearly see a bias as only bright images are being marked as people with non-specs, while\n",
        "# people wearing muffler and specs together are being marked with specs.\n",
        "# Additionally, no woman has been marked as wearing specs in the category.\n",
        "\n",
        "# This shows that the current dataset is not a reflection of the real world and hence, a classic example of bias.\n",
        "# To remove this bias, lets add more data to our test dataset by adding data from the data folder.\n",
        "\n",
        "# Create the data dataframe for testing by reading the data from the data folder\n",
        "\n",
        "data_path   = glob.glob('/content/drive/My Drive/AR_FaceDB/data/' + '*.bmp')\n",
        "\n",
        "data_dataframe = pd.DataFrame({'path' : data_path})\n",
        "data_dataframe"
      ],
      "execution_count": null,
      "outputs": [
        {
          "output_type": "execute_result",
          "data": {
            "text/html": [
              "<div>\n",
              "<style scoped>\n",
              "    .dataframe tbody tr th:only-of-type {\n",
              "        vertical-align: middle;\n",
              "    }\n",
              "\n",
              "    .dataframe tbody tr th {\n",
              "        vertical-align: top;\n",
              "    }\n",
              "\n",
              "    .dataframe thead th {\n",
              "        text-align: right;\n",
              "    }\n",
              "</style>\n",
              "<table border=\"1\" class=\"dataframe\">\n",
              "  <thead>\n",
              "    <tr style=\"text-align: right;\">\n",
              "      <th></th>\n",
              "      <th>path</th>\n",
              "    </tr>\n",
              "  </thead>\n",
              "  <tbody>\n",
              "    <tr>\n",
              "      <th>0</th>\n",
              "      <td>/content/drive/My Drive/AR_FaceDB/data/w-037-1...</td>\n",
              "    </tr>\n",
              "    <tr>\n",
              "      <th>1</th>\n",
              "      <td>/content/drive/My Drive/AR_FaceDB/data/w-037-1...</td>\n",
              "    </tr>\n",
              "    <tr>\n",
              "      <th>2</th>\n",
              "      <td>/content/drive/My Drive/AR_FaceDB/data/w-037-1...</td>\n",
              "    </tr>\n",
              "    <tr>\n",
              "      <th>3</th>\n",
              "      <td>/content/drive/My Drive/AR_FaceDB/data/w-037-1...</td>\n",
              "    </tr>\n",
              "    <tr>\n",
              "      <th>4</th>\n",
              "      <td>/content/drive/My Drive/AR_FaceDB/data/w-037-2...</td>\n",
              "    </tr>\n",
              "    <tr>\n",
              "      <th>...</th>\n",
              "      <td>...</td>\n",
              "    </tr>\n",
              "    <tr>\n",
              "      <th>2219</th>\n",
              "      <td>/content/drive/My Drive/AR_FaceDB/data/m-049-1...</td>\n",
              "    </tr>\n",
              "    <tr>\n",
              "      <th>2220</th>\n",
              "      <td>/content/drive/My Drive/AR_FaceDB/data/m-049-1...</td>\n",
              "    </tr>\n",
              "    <tr>\n",
              "      <th>2221</th>\n",
              "      <td>/content/drive/My Drive/AR_FaceDB/data/m-049-1...</td>\n",
              "    </tr>\n",
              "    <tr>\n",
              "      <th>2222</th>\n",
              "      <td>/content/drive/My Drive/AR_FaceDB/data/m-049-2...</td>\n",
              "    </tr>\n",
              "    <tr>\n",
              "      <th>2223</th>\n",
              "      <td>/content/drive/My Drive/AR_FaceDB/data/m-049-2...</td>\n",
              "    </tr>\n",
              "  </tbody>\n",
              "</table>\n",
              "<p>2224 rows × 1 columns</p>\n",
              "</div>"
            ],
            "text/plain": [
              "                                                   path\n",
              "0     /content/drive/My Drive/AR_FaceDB/data/w-037-1...\n",
              "1     /content/drive/My Drive/AR_FaceDB/data/w-037-1...\n",
              "2     /content/drive/My Drive/AR_FaceDB/data/w-037-1...\n",
              "3     /content/drive/My Drive/AR_FaceDB/data/w-037-1...\n",
              "4     /content/drive/My Drive/AR_FaceDB/data/w-037-2...\n",
              "...                                                 ...\n",
              "2219  /content/drive/My Drive/AR_FaceDB/data/m-049-1...\n",
              "2220  /content/drive/My Drive/AR_FaceDB/data/m-049-1...\n",
              "2221  /content/drive/My Drive/AR_FaceDB/data/m-049-1...\n",
              "2222  /content/drive/My Drive/AR_FaceDB/data/m-049-2...\n",
              "2223  /content/drive/My Drive/AR_FaceDB/data/m-049-2...\n",
              "\n",
              "[2224 rows x 1 columns]"
            ]
          },
          "metadata": {
            "tags": []
          },
          "execution_count": 26
        }
      ]
    },
    {
      "cell_type": "code",
      "metadata": {
        "id": "36b7B0e2797m",
        "outputId": "b447e9b3-e064-4dd3-96c6-f1fc2c7e12e2",
        "colab": {
          "base_uri": "https://localhost:8080/",
          "height": 402
        }
      },
      "source": [
        "# Adding additional labels to the data dataframe for a better understanding of the data we are dealing with.\n",
        "\n",
        "data_dataframe['gender']      = data_dataframe['path'].str.split('/').str[-1].str.split('-').str[0]\n",
        "data_dataframe['identity']    = data_dataframe['path'].str.split('/').str[-1].str.split('-').str[1]\n",
        "data_dataframe['attribute']   = data_dataframe['path'].str.split('/').str[-1].str.split('-').str[-1].str.split('.').str[0]\n",
        "\n",
        "data_dataframe"
      ],
      "execution_count": null,
      "outputs": [
        {
          "output_type": "execute_result",
          "data": {
            "text/html": [
              "<div>\n",
              "<style scoped>\n",
              "    .dataframe tbody tr th:only-of-type {\n",
              "        vertical-align: middle;\n",
              "    }\n",
              "\n",
              "    .dataframe tbody tr th {\n",
              "        vertical-align: top;\n",
              "    }\n",
              "\n",
              "    .dataframe thead th {\n",
              "        text-align: right;\n",
              "    }\n",
              "</style>\n",
              "<table border=\"1\" class=\"dataframe\">\n",
              "  <thead>\n",
              "    <tr style=\"text-align: right;\">\n",
              "      <th></th>\n",
              "      <th>path</th>\n",
              "      <th>gender</th>\n",
              "      <th>identity</th>\n",
              "      <th>attribute</th>\n",
              "    </tr>\n",
              "  </thead>\n",
              "  <tbody>\n",
              "    <tr>\n",
              "      <th>0</th>\n",
              "      <td>/content/drive/My Drive/AR_FaceDB/data/w-037-1...</td>\n",
              "      <td>w</td>\n",
              "      <td>037</td>\n",
              "      <td>15</td>\n",
              "    </tr>\n",
              "    <tr>\n",
              "      <th>1</th>\n",
              "      <td>/content/drive/My Drive/AR_FaceDB/data/w-037-1...</td>\n",
              "      <td>w</td>\n",
              "      <td>037</td>\n",
              "      <td>16</td>\n",
              "    </tr>\n",
              "    <tr>\n",
              "      <th>2</th>\n",
              "      <td>/content/drive/My Drive/AR_FaceDB/data/w-037-1...</td>\n",
              "      <td>w</td>\n",
              "      <td>037</td>\n",
              "      <td>17</td>\n",
              "    </tr>\n",
              "    <tr>\n",
              "      <th>3</th>\n",
              "      <td>/content/drive/My Drive/AR_FaceDB/data/w-037-1...</td>\n",
              "      <td>w</td>\n",
              "      <td>037</td>\n",
              "      <td>18</td>\n",
              "    </tr>\n",
              "    <tr>\n",
              "      <th>4</th>\n",
              "      <td>/content/drive/My Drive/AR_FaceDB/data/w-037-2...</td>\n",
              "      <td>w</td>\n",
              "      <td>037</td>\n",
              "      <td>2</td>\n",
              "    </tr>\n",
              "    <tr>\n",
              "      <th>...</th>\n",
              "      <td>...</td>\n",
              "      <td>...</td>\n",
              "      <td>...</td>\n",
              "      <td>...</td>\n",
              "    </tr>\n",
              "    <tr>\n",
              "      <th>2219</th>\n",
              "      <td>/content/drive/My Drive/AR_FaceDB/data/m-049-1...</td>\n",
              "      <td>m</td>\n",
              "      <td>049</td>\n",
              "      <td>15</td>\n",
              "    </tr>\n",
              "    <tr>\n",
              "      <th>2220</th>\n",
              "      <td>/content/drive/My Drive/AR_FaceDB/data/m-049-1...</td>\n",
              "      <td>m</td>\n",
              "      <td>049</td>\n",
              "      <td>18</td>\n",
              "    </tr>\n",
              "    <tr>\n",
              "      <th>2221</th>\n",
              "      <td>/content/drive/My Drive/AR_FaceDB/data/m-049-1...</td>\n",
              "      <td>m</td>\n",
              "      <td>049</td>\n",
              "      <td>19</td>\n",
              "    </tr>\n",
              "    <tr>\n",
              "      <th>2222</th>\n",
              "      <td>/content/drive/My Drive/AR_FaceDB/data/m-049-2...</td>\n",
              "      <td>m</td>\n",
              "      <td>049</td>\n",
              "      <td>2</td>\n",
              "    </tr>\n",
              "    <tr>\n",
              "      <th>2223</th>\n",
              "      <td>/content/drive/My Drive/AR_FaceDB/data/m-049-2...</td>\n",
              "      <td>m</td>\n",
              "      <td>049</td>\n",
              "      <td>20</td>\n",
              "    </tr>\n",
              "  </tbody>\n",
              "</table>\n",
              "<p>2224 rows × 4 columns</p>\n",
              "</div>"
            ],
            "text/plain": [
              "                                                   path  ... attribute\n",
              "0     /content/drive/My Drive/AR_FaceDB/data/w-037-1...  ...        15\n",
              "1     /content/drive/My Drive/AR_FaceDB/data/w-037-1...  ...        16\n",
              "2     /content/drive/My Drive/AR_FaceDB/data/w-037-1...  ...        17\n",
              "3     /content/drive/My Drive/AR_FaceDB/data/w-037-1...  ...        18\n",
              "4     /content/drive/My Drive/AR_FaceDB/data/w-037-2...  ...         2\n",
              "...                                                 ...  ...       ...\n",
              "2219  /content/drive/My Drive/AR_FaceDB/data/m-049-1...  ...        15\n",
              "2220  /content/drive/My Drive/AR_FaceDB/data/m-049-1...  ...        18\n",
              "2221  /content/drive/My Drive/AR_FaceDB/data/m-049-1...  ...        19\n",
              "2222  /content/drive/My Drive/AR_FaceDB/data/m-049-2...  ...         2\n",
              "2223  /content/drive/My Drive/AR_FaceDB/data/m-049-2...  ...        20\n",
              "\n",
              "[2224 rows x 4 columns]"
            ]
          },
          "metadata": {
            "tags": []
          },
          "execution_count": 27
        }
      ]
    },
    {
      "cell_type": "code",
      "metadata": {
        "id": "z2zmtDd--swD"
      },
      "source": [
        "# Printing the images from the data dataframe.\n",
        "\n",
        "data_path  = glob.glob('/content/drive/My Drive/AR_FaceDB/data/' + '*.bmp')\n",
        "\n",
        "test1_datagen = ImageDataGenerator(rescale = 1./255.)\n",
        "\n",
        "for path in data_path:\n",
        "  new_image        = tf.keras.preprocessing.image.load_img(path, target_size = (32, 32))\n",
        "  data_image_array = np.expand_dims(keras.preprocessing.image.img_to_array(new_image), axis = 0) / 255\n",
        "  actual_image     = tf.keras.preprocessing.image.load_img(path)\n",
        "  plt.imshow(actual_image)\n",
        "  plt.show()"
      ],
      "execution_count": null,
      "outputs": []
    },
    {
      "cell_type": "code",
      "metadata": {
        "id": "1naTRAPtbPz2",
        "outputId": "4e603049-d6ed-4d32-c6c7-5ac8f42facb3",
        "colab": {
          "base_uri": "https://localhost:8080/",
          "height": 580
        }
      },
      "source": [
        "# We have analysed this data and to improve the bias, or rather reduce it, we will now add specific data from this data folder to the trainining dataframe.\n",
        "\n",
        "# Create a dataframe for training by adding the specs data\n",
        "\n",
        "set1   = []\n",
        "\n",
        "set1.append('/content/drive/My Drive/AR_FaceDB/data/m-049-1.bmp')\n",
        "set1.append('/content/drive/My Drive/AR_FaceDB/data/m-055-1.bmp')\n",
        "set1.append('/content/drive/My Drive/AR_FaceDB/data/m-058-1.bmp')\n",
        "set1.append('/content/drive/My Drive/AR_FaceDB/data/m-061-1.bmp')\n",
        "set1.append('/content/drive/My Drive/AR_FaceDB/data/m-063-1.bmp')\n",
        "set1.append('/content/drive/My Drive/AR_FaceDB/data/m-064-1.bmp')\n",
        "set1.append('/content/drive/My Drive/AR_FaceDB/data/m-070-1.bmp')\n",
        "set1.append('/content/drive/My Drive/AR_FaceDB/data/m-071-1.bmp')\n",
        "set1.append('/content/drive/My Drive/AR_FaceDB/data/m-072-1.bmp')\n",
        "set1.append('/content/drive/My Drive/AR_FaceDB/data/m-075-1.bmp')\n",
        "set1.append('/content/drive/My Drive/AR_FaceDB/data/w-001-1.bmp')\n",
        "set1.append('/content/drive/My Drive/AR_FaceDB/data/w-004-1.bmp')\n",
        "set1.append('/content/drive/My Drive/AR_FaceDB/data/w-012-1.bmp')\n",
        "set1.append('/content/drive/My Drive/AR_FaceDB/data/w-021-1.bmp')\n",
        "set1.append('/content/drive/My Drive/AR_FaceDB/data/w-022-1.bmp')\n",
        "set1.append('/content/drive/My Drive/AR_FaceDB/data/w-027-1.bmp')\n",
        "set1.append('/content/drive/My Drive/AR_FaceDB/data/w-029-1.bmp')\n",
        "set1.append('/content/drive/My Drive/AR_FaceDB/data/w-058-1.bmp')\n",
        "\n",
        "dataframe1 = pd.DataFrame({'path' : set1, 'label' : 'specs'})\n",
        "\n",
        "dataframe1['gender']      = dataframe1['path'].str.split('/').str[-1].str.split('-').str[0]\n",
        "dataframe1['identity']    = dataframe1['path'].str.split('/').str[-1].str.split('-').str[1]\n",
        "dataframe1['attribute']   = dataframe1['path'].str.split('/').str[-1].str.split('-').str[-1].str.split('.').str[0]\n",
        "\n",
        "dataframe1"
      ],
      "execution_count": null,
      "outputs": [
        {
          "output_type": "execute_result",
          "data": {
            "text/html": [
              "<div>\n",
              "<style scoped>\n",
              "    .dataframe tbody tr th:only-of-type {\n",
              "        vertical-align: middle;\n",
              "    }\n",
              "\n",
              "    .dataframe tbody tr th {\n",
              "        vertical-align: top;\n",
              "    }\n",
              "\n",
              "    .dataframe thead th {\n",
              "        text-align: right;\n",
              "    }\n",
              "</style>\n",
              "<table border=\"1\" class=\"dataframe\">\n",
              "  <thead>\n",
              "    <tr style=\"text-align: right;\">\n",
              "      <th></th>\n",
              "      <th>path</th>\n",
              "      <th>label</th>\n",
              "      <th>gender</th>\n",
              "      <th>identity</th>\n",
              "      <th>attribute</th>\n",
              "    </tr>\n",
              "  </thead>\n",
              "  <tbody>\n",
              "    <tr>\n",
              "      <th>0</th>\n",
              "      <td>/content/drive/My Drive/AR_FaceDB/data/m-049-1...</td>\n",
              "      <td>specs</td>\n",
              "      <td>m</td>\n",
              "      <td>049</td>\n",
              "      <td>1</td>\n",
              "    </tr>\n",
              "    <tr>\n",
              "      <th>1</th>\n",
              "      <td>/content/drive/My Drive/AR_FaceDB/data/m-055-1...</td>\n",
              "      <td>specs</td>\n",
              "      <td>m</td>\n",
              "      <td>055</td>\n",
              "      <td>1</td>\n",
              "    </tr>\n",
              "    <tr>\n",
              "      <th>2</th>\n",
              "      <td>/content/drive/My Drive/AR_FaceDB/data/m-058-1...</td>\n",
              "      <td>specs</td>\n",
              "      <td>m</td>\n",
              "      <td>058</td>\n",
              "      <td>1</td>\n",
              "    </tr>\n",
              "    <tr>\n",
              "      <th>3</th>\n",
              "      <td>/content/drive/My Drive/AR_FaceDB/data/m-061-1...</td>\n",
              "      <td>specs</td>\n",
              "      <td>m</td>\n",
              "      <td>061</td>\n",
              "      <td>1</td>\n",
              "    </tr>\n",
              "    <tr>\n",
              "      <th>4</th>\n",
              "      <td>/content/drive/My Drive/AR_FaceDB/data/m-063-1...</td>\n",
              "      <td>specs</td>\n",
              "      <td>m</td>\n",
              "      <td>063</td>\n",
              "      <td>1</td>\n",
              "    </tr>\n",
              "    <tr>\n",
              "      <th>5</th>\n",
              "      <td>/content/drive/My Drive/AR_FaceDB/data/m-064-1...</td>\n",
              "      <td>specs</td>\n",
              "      <td>m</td>\n",
              "      <td>064</td>\n",
              "      <td>1</td>\n",
              "    </tr>\n",
              "    <tr>\n",
              "      <th>6</th>\n",
              "      <td>/content/drive/My Drive/AR_FaceDB/data/m-070-1...</td>\n",
              "      <td>specs</td>\n",
              "      <td>m</td>\n",
              "      <td>070</td>\n",
              "      <td>1</td>\n",
              "    </tr>\n",
              "    <tr>\n",
              "      <th>7</th>\n",
              "      <td>/content/drive/My Drive/AR_FaceDB/data/m-071-1...</td>\n",
              "      <td>specs</td>\n",
              "      <td>m</td>\n",
              "      <td>071</td>\n",
              "      <td>1</td>\n",
              "    </tr>\n",
              "    <tr>\n",
              "      <th>8</th>\n",
              "      <td>/content/drive/My Drive/AR_FaceDB/data/m-072-1...</td>\n",
              "      <td>specs</td>\n",
              "      <td>m</td>\n",
              "      <td>072</td>\n",
              "      <td>1</td>\n",
              "    </tr>\n",
              "    <tr>\n",
              "      <th>9</th>\n",
              "      <td>/content/drive/My Drive/AR_FaceDB/data/m-075-1...</td>\n",
              "      <td>specs</td>\n",
              "      <td>m</td>\n",
              "      <td>075</td>\n",
              "      <td>1</td>\n",
              "    </tr>\n",
              "    <tr>\n",
              "      <th>10</th>\n",
              "      <td>/content/drive/My Drive/AR_FaceDB/data/w-001-1...</td>\n",
              "      <td>specs</td>\n",
              "      <td>w</td>\n",
              "      <td>001</td>\n",
              "      <td>1</td>\n",
              "    </tr>\n",
              "    <tr>\n",
              "      <th>11</th>\n",
              "      <td>/content/drive/My Drive/AR_FaceDB/data/w-004-1...</td>\n",
              "      <td>specs</td>\n",
              "      <td>w</td>\n",
              "      <td>004</td>\n",
              "      <td>1</td>\n",
              "    </tr>\n",
              "    <tr>\n",
              "      <th>12</th>\n",
              "      <td>/content/drive/My Drive/AR_FaceDB/data/w-012-1...</td>\n",
              "      <td>specs</td>\n",
              "      <td>w</td>\n",
              "      <td>012</td>\n",
              "      <td>1</td>\n",
              "    </tr>\n",
              "    <tr>\n",
              "      <th>13</th>\n",
              "      <td>/content/drive/My Drive/AR_FaceDB/data/w-021-1...</td>\n",
              "      <td>specs</td>\n",
              "      <td>w</td>\n",
              "      <td>021</td>\n",
              "      <td>1</td>\n",
              "    </tr>\n",
              "    <tr>\n",
              "      <th>14</th>\n",
              "      <td>/content/drive/My Drive/AR_FaceDB/data/w-022-1...</td>\n",
              "      <td>specs</td>\n",
              "      <td>w</td>\n",
              "      <td>022</td>\n",
              "      <td>1</td>\n",
              "    </tr>\n",
              "    <tr>\n",
              "      <th>15</th>\n",
              "      <td>/content/drive/My Drive/AR_FaceDB/data/w-027-1...</td>\n",
              "      <td>specs</td>\n",
              "      <td>w</td>\n",
              "      <td>027</td>\n",
              "      <td>1</td>\n",
              "    </tr>\n",
              "    <tr>\n",
              "      <th>16</th>\n",
              "      <td>/content/drive/My Drive/AR_FaceDB/data/w-029-1...</td>\n",
              "      <td>specs</td>\n",
              "      <td>w</td>\n",
              "      <td>029</td>\n",
              "      <td>1</td>\n",
              "    </tr>\n",
              "    <tr>\n",
              "      <th>17</th>\n",
              "      <td>/content/drive/My Drive/AR_FaceDB/data/w-058-1...</td>\n",
              "      <td>specs</td>\n",
              "      <td>w</td>\n",
              "      <td>058</td>\n",
              "      <td>1</td>\n",
              "    </tr>\n",
              "  </tbody>\n",
              "</table>\n",
              "</div>"
            ],
            "text/plain": [
              "                                                 path  label  ... identity attribute\n",
              "0   /content/drive/My Drive/AR_FaceDB/data/m-049-1...  specs  ...      049         1\n",
              "1   /content/drive/My Drive/AR_FaceDB/data/m-055-1...  specs  ...      055         1\n",
              "2   /content/drive/My Drive/AR_FaceDB/data/m-058-1...  specs  ...      058         1\n",
              "3   /content/drive/My Drive/AR_FaceDB/data/m-061-1...  specs  ...      061         1\n",
              "4   /content/drive/My Drive/AR_FaceDB/data/m-063-1...  specs  ...      063         1\n",
              "5   /content/drive/My Drive/AR_FaceDB/data/m-064-1...  specs  ...      064         1\n",
              "6   /content/drive/My Drive/AR_FaceDB/data/m-070-1...  specs  ...      070         1\n",
              "7   /content/drive/My Drive/AR_FaceDB/data/m-071-1...  specs  ...      071         1\n",
              "8   /content/drive/My Drive/AR_FaceDB/data/m-072-1...  specs  ...      072         1\n",
              "9   /content/drive/My Drive/AR_FaceDB/data/m-075-1...  specs  ...      075         1\n",
              "10  /content/drive/My Drive/AR_FaceDB/data/w-001-1...  specs  ...      001         1\n",
              "11  /content/drive/My Drive/AR_FaceDB/data/w-004-1...  specs  ...      004         1\n",
              "12  /content/drive/My Drive/AR_FaceDB/data/w-012-1...  specs  ...      012         1\n",
              "13  /content/drive/My Drive/AR_FaceDB/data/w-021-1...  specs  ...      021         1\n",
              "14  /content/drive/My Drive/AR_FaceDB/data/w-022-1...  specs  ...      022         1\n",
              "15  /content/drive/My Drive/AR_FaceDB/data/w-027-1...  specs  ...      027         1\n",
              "16  /content/drive/My Drive/AR_FaceDB/data/w-029-1...  specs  ...      029         1\n",
              "17  /content/drive/My Drive/AR_FaceDB/data/w-058-1...  specs  ...      058         1\n",
              "\n",
              "[18 rows x 5 columns]"
            ]
          },
          "metadata": {
            "tags": []
          },
          "execution_count": 29
        }
      ]
    },
    {
      "cell_type": "code",
      "metadata": {
        "id": "9ukjtBNNvWPj",
        "outputId": "e59513cd-584c-49f0-d7e4-e32987d0f945",
        "colab": {
          "base_uri": "https://localhost:8080/"
        }
      },
      "source": [
        "train_dataframe.shape"
      ],
      "execution_count": null,
      "outputs": [
        {
          "output_type": "execute_result",
          "data": {
            "text/plain": [
              "(706, 5)"
            ]
          },
          "metadata": {
            "tags": []
          },
          "execution_count": 31
        }
      ]
    },
    {
      "cell_type": "code",
      "metadata": {
        "id": "s-7VAl1nrsn_",
        "outputId": "52851394-c932-4049-f44f-7abebe080a7f",
        "colab": {
          "base_uri": "https://localhost:8080/"
        }
      },
      "source": [
        "# Concatenate the newly created dataframes above with the original training dataframe to create a new training dataframe.\n",
        "\n",
        "train_dataframe1 = pd.concat([train_dataframe, dataframe1])\n",
        "\n",
        "train_dataframe1\n",
        "\n",
        "train_dataframe1.shape"
      ],
      "execution_count": null,
      "outputs": [
        {
          "output_type": "execute_result",
          "data": {
            "text/plain": [
              "(1295, 5)"
            ]
          },
          "metadata": {
            "tags": []
          },
          "execution_count": 32
        }
      ]
    },
    {
      "cell_type": "code",
      "metadata": {
        "id": "xPvsoenvsK0V",
        "outputId": "4eb95409-33af-49bb-e9ac-0a0ff30b0b24",
        "colab": {
          "base_uri": "https://localhost:8080/"
        }
      },
      "source": [
        "# Split the training sets into 2 sets - one for training, the other for validation.\n",
        "# Use the ImageDataGenerator to generate the images for training and validation dataframes\n",
        "\n",
        "datagen         = ImageDataGenerator(rescale = 1./255., validation_split = 0.25)\n",
        "\n",
        "new_train_generator = datagen.flow_from_dataframe(dataframe = train_dataframe1, x_col = 'path', y_col = 'label', subset = 'training',\n",
        "                                              batch_size = 32, seed = 42, shuffle=True, class_mode = 'binary', target_size = (32, 32))\n",
        "\n",
        "valid_generator = datagen.flow_from_dataframe(dataframe = train_dataframe1, x_col = 'path', y_col = 'label', subset = 'validation',\n",
        "                                              batch_size = 32, seed = 42, shuffle=True, class_mode = 'binary', target_size = (32, 32))"
      ],
      "execution_count": null,
      "outputs": [
        {
          "output_type": "stream",
          "text": [
            "Found 972 validated image filenames belonging to 2 classes.\n",
            "Found 323 validated image filenames belonging to 2 classes.\n"
          ],
          "name": "stdout"
        }
      ]
    },
    {
      "cell_type": "code",
      "metadata": {
        "id": "KuxyGp9jsb7a"
      },
      "source": [
        "# Build the model using the architecture specified\n",
        "\n",
        "model1 = Sequential()\n",
        "\n",
        "model1.add(Conv2D(32, kernel_size=(3, 3), padding ='same', input_shape = (32, 32, 3)))\n",
        "model1.add(Activation('relu'))\n",
        "model1.add(MaxPooling2D((2, 2), padding = 'same'))\n",
        "model1.add(Dropout(0.45))\n",
        "\n",
        "model1.add(Conv2D(64, (3, 3), padding ='same'))\n",
        "model1.add(Activation('relu'))\n",
        "model1.add(Dropout(0.45))\n",
        "\n",
        "model1.add(Conv2D(128, (3, 3), padding = 'same'))\n",
        "model1.add(Activation('relu'))\n",
        "model1.add(MaxPooling2D(pool_size = (2, 2)))\n",
        "model1.add(Dropout(0.45))\n",
        "\n",
        "model1.add(Flatten())\n",
        "\n",
        "model1.add(Dense(128))\n",
        "model1.add(Activation('relu'))\n",
        "model1.add(Dropout(0.45))\n",
        "\n",
        "model1.add(Dense(1, activation = 'sigmoid'))\n",
        "\n",
        "model1.compile(optimizer = 'adam', loss = 'mean_squared_error', metrics = ['accuracy',\n",
        "                                                                          tf.keras.metrics.Precision(), tf.keras.metrics.Recall()])"
      ],
      "execution_count": null,
      "outputs": []
    },
    {
      "cell_type": "code",
      "metadata": {
        "id": "K1c1VzlRsxzF",
        "outputId": "478dcb68-7faa-494f-8d6c-42057c9a5ace",
        "colab": {
          "base_uri": "https://localhost:8080/"
        }
      },
      "source": [
        "# Fitting the model\n",
        "\n",
        "STEP_SIZE_TRAIN = train_generator.n//new_train_generator.batch_size\n",
        "STEP_SIZE_VALID = valid_generator.n//valid_generator.batch_size\n",
        "STEP_SIZE_TEST  = test_generator.n//test_generator.batch_size\n",
        "\n",
        "model1.fit_generator(generator = new_train_generator, steps_per_epoch = STEP_SIZE_TRAIN, validation_data = valid_generator,\n",
        "                    validation_steps = STEP_SIZE_VALID, epochs = 10)"
      ],
      "execution_count": null,
      "outputs": [
        {
          "output_type": "stream",
          "text": [
            "Epoch 1/10\n",
            "16/16 [==============================] - 20s 1s/step - loss: 0.0956 - accuracy: 0.8906 - precision_1: 0.0625 - recall_1: 0.0238 - val_loss: 1.0000 - val_accuracy: 0.0000e+00 - val_precision_1: 0.0000e+00 - val_recall_1: 0.0000e+00\n",
            "Epoch 2/10\n",
            "16/16 [==============================] - 5s 288ms/step - loss: 0.0894 - accuracy: 0.9106 - precision_1: 0.0000e+00 - recall_1: 0.0000e+00 - val_loss: 1.0000 - val_accuracy: 0.0000e+00 - val_precision_1: 0.0000e+00 - val_recall_1: 0.0000e+00\n",
            "Epoch 3/10\n",
            "16/16 [==============================] - 4s 232ms/step - loss: 0.1074 - accuracy: 0.8926 - precision_1: 0.0000e+00 - recall_1: 0.0000e+00 - val_loss: 1.0000 - val_accuracy: 0.0000e+00 - val_precision_1: 0.0000e+00 - val_recall_1: 0.0000e+00\n",
            "Epoch 4/10\n",
            "16/16 [==============================] - 3s 180ms/step - loss: 0.1118 - accuracy: 0.8882 - precision_1: 0.0000e+00 - recall_1: 0.0000e+00 - val_loss: 1.0000 - val_accuracy: 0.0000e+00 - val_precision_1: 0.0000e+00 - val_recall_1: 0.0000e+00\n",
            "Epoch 5/10\n",
            "16/16 [==============================] - 3s 174ms/step - loss: 0.0976 - accuracy: 0.9024 - precision_1: 0.0000e+00 - recall_1: 0.0000e+00 - val_loss: 1.0000 - val_accuracy: 0.0000e+00 - val_precision_1: 0.0000e+00 - val_recall_1: 0.0000e+00\n",
            "Epoch 6/10\n",
            "16/16 [==============================] - 3s 170ms/step - loss: 0.0874 - accuracy: 0.9126 - precision_1: 0.0000e+00 - recall_1: 0.0000e+00 - val_loss: 1.0000 - val_accuracy: 0.0000e+00 - val_precision_1: 0.0000e+00 - val_recall_1: 0.0000e+00\n",
            "Epoch 7/10\n",
            "16/16 [==============================] - 3s 171ms/step - loss: 0.0915 - accuracy: 0.9085 - precision_1: 0.0000e+00 - recall_1: 0.0000e+00 - val_loss: 1.0000 - val_accuracy: 0.0000e+00 - val_precision_1: 0.0000e+00 - val_recall_1: 0.0000e+00\n",
            "Epoch 8/10\n",
            "16/16 [==============================] - 3s 172ms/step - loss: 0.1016 - accuracy: 0.8984 - precision_1: 0.0000e+00 - recall_1: 0.0000e+00 - val_loss: 1.0000 - val_accuracy: 0.0000e+00 - val_precision_1: 0.0000e+00 - val_recall_1: 0.0000e+00\n",
            "Epoch 9/10\n",
            "16/16 [==============================] - 3s 170ms/step - loss: 0.1098 - accuracy: 0.8902 - precision_1: 0.0000e+00 - recall_1: 0.0000e+00 - val_loss: 1.0000 - val_accuracy: 0.0000e+00 - val_precision_1: 0.0000e+00 - val_recall_1: 0.0000e+00\n",
            "Epoch 10/10\n",
            "16/16 [==============================] - 3s 171ms/step - loss: 0.0752 - accuracy: 0.9248 - precision_1: 0.0000e+00 - recall_1: 0.0000e+00 - val_loss: 1.0000 - val_accuracy: 0.0000e+00 - val_precision_1: 0.0000e+00 - val_recall_1: 0.0000e+00\n"
          ],
          "name": "stdout"
        },
        {
          "output_type": "execute_result",
          "data": {
            "text/plain": [
              "<tensorflow.python.keras.callbacks.History at 0x7f5a0e6111d0>"
            ]
          },
          "metadata": {
            "tags": []
          },
          "execution_count": 35
        }
      ]
    },
    {
      "cell_type": "code",
      "metadata": {
        "id": "VupH-XfvtQHT",
        "outputId": "0f3a50f1-5756-4803-eb62-554571cc5afa",
        "colab": {
          "base_uri": "https://localhost:8080/"
        }
      },
      "source": [
        "# Evaluate the model on test dataset\n",
        "\n",
        "_, accuracy, precision, recall = model1.evaluate_generator(generator = test_generator, steps = STEP_SIZE_TRAIN)\n",
        "\n",
        "print('Test Dataset results:')\n",
        "print('The accuracy is %.2f' % (accuracy * 100))\n",
        "print('The precision is %.2f' % precision)\n",
        "print('The recall is %.2f' % recall)  "
      ],
      "execution_count": null,
      "outputs": [
        {
          "output_type": "stream",
          "text": [
            "WARNING:tensorflow:Your input ran out of data; interrupting training. Make sure that your dataset or generator can generate at least `steps_per_epoch * epochs` batches (in this case, 16 batches). You may need to use the repeat() function when building your dataset.\n",
            "Test Dataset results:\n",
            "The accuracy is 44.31\n",
            "The precision is 0.00\n",
            "The recall is 0.00\n"
          ],
          "name": "stdout"
        }
      ]
    },
    {
      "cell_type": "code",
      "metadata": {
        "id": "-rMxpfvZqaW9",
        "outputId": "f92ffd53-cfdb-4e4d-a152-da8169b52283",
        "colab": {
          "base_uri": "https://localhost:8080/"
        }
      },
      "source": [
        "# Evaluate the model on training dataset\n",
        "\n",
        "_, accuracy, precision, recall = model1.evaluate_generator(generator = new_train_generator, steps = STEP_SIZE_TEST)\n",
        "\n",
        "print('Training Dataset results:')\n",
        "print('The accuracy is %.2f' % (accuracy * 100))\n",
        "print('The precision is %.2f' % precision)\n",
        "print('The recall is %.2f' % recall)"
      ],
      "execution_count": null,
      "outputs": [
        {
          "output_type": "stream",
          "text": [
            "Training Dataset results:\n",
            "The accuracy is 92.81\n",
            "The precision is 0.00\n",
            "The recall is 0.00\n"
          ],
          "name": "stdout"
        }
      ]
    },
    {
      "cell_type": "code",
      "metadata": {
        "id": "Aa87kr_Ow_2i",
        "outputId": "b9b6151a-536e-4e3f-ef08-382f4cec4e89",
        "colab": {
          "base_uri": "https://localhost:8080/"
        }
      },
      "source": [
        "# Evaluate the model on validation dataset\n",
        "\n",
        "_, accuracy, precision, recall = model.evaluate_generator(generator = valid_generator, steps = STEP_SIZE_TEST)\n",
        "\n",
        "print('Validation Dataset results:')\n",
        "print('The accuracy is %.2f' % (accuracy * 100))\n",
        "print('The precision is %.2f' % precision)\n",
        "print('The recall is %.2f' % recall)"
      ],
      "execution_count": null,
      "outputs": [
        {
          "output_type": "stream",
          "text": [
            "Validation Dataset results:\n",
            "The accuracy is 99.69\n",
            "The precision is 1.00\n",
            "The recall is 1.00\n"
          ],
          "name": "stdout"
        }
      ]
    }
  ]
}